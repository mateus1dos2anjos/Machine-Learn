{
 "cells": [
  {
   "cell_type": "markdown",
   "metadata": {},
   "source": [
    "# Trabalho 1 - Regressão Linear"
   ]
  },
  {
   "cell_type": "markdown",
   "metadata": {},
   "source": [
    "## Código + Relatório"
   ]
  },
  {
   "cell_type": "code",
   "execution_count": 1,
   "metadata": {},
   "outputs": [],
   "source": [
    "import numpy as np\n",
    "import random \n",
    "from sklearn.model_selection import train_test_split\n",
    "import matplotlib.pyplot as plt"
   ]
  },
  {
   "cell_type": "markdown",
   "metadata": {},
   "source": [
    "## Questão 1"
   ]
  },
  {
   "cell_type": "markdown",
   "metadata": {},
   "source": [
    "### a. Regressão Linear univariada - método analítico"
   ]
  },
  {
   "cell_type": "code",
   "execution_count": 2,
   "metadata": {},
   "outputs": [],
   "source": [
    "# ULR_MA = UnivariateLinearRegressionMA \n",
    "class ULR_MA():\n",
    "    def __init__(self):\n",
    "        pass\n",
    "    \n",
    "    def fit(self, X, y):\n",
    "        x_bar = np.mean(X)\n",
    "        y_bar = np.mean(y)\n",
    "        \n",
    "        x_x_bar = X - x_bar\n",
    "        y_y_bar = y - y_bar\n",
    "        \n",
    "        num = sum(x_x_bar * y_y_bar) #numerador\n",
    "        den = sum(x_x_bar * x_x_bar) #denominador\n",
    "        \n",
    "        self.b1 = num/den\n",
    "        self.b0 = y_bar - self.b1 * x_bar\n",
    "        \n",
    "    def predict(self, X):\n",
    "        return self.b0 + X*self.b1"
   ]
  },
  {
   "cell_type": "markdown",
   "metadata": {},
   "source": [
    "### b.\tRegressão Linear univariada - gradiente descendente"
   ]
  },
  {
   "cell_type": "code",
   "execution_count": 3,
   "metadata": {},
   "outputs": [],
   "source": [
    "# ULR_GD = UnivariateLinearRegressionGD \n",
    "class ULR_GD():\n",
    "    def __init__(self, learning_rate = 0.01, epochs = 100, epoch_mse=False):\n",
    "        self.learning_rate = learning_rate\n",
    "        self.b0 = random.random()\n",
    "        self.b1 = random.random()\n",
    "        self.epochs = epochs\n",
    "        self.epoch_mse = epoch_mse\n",
    "        self.mse = np.array([])\n",
    "        \n",
    "    def fit(self, X, y):\n",
    "        for _ in list(range(self.epochs)):\n",
    "            y_predict = self.predict(X)\n",
    "            error = y - y_predict\n",
    "            \n",
    "            self.b0 = self.b0 + (self.learning_rate * np.mean(error))\n",
    "            self.b1 = self.b1 + (self.learning_rate * np.mean(error * X))\n",
    "   \n",
    "            if self.epoch_mse:\n",
    "                mse = np.mean((y - self.predict(X)) ** 2)\n",
    "                self.mse = np.append(self.mse, mse)\n",
    "        \n",
    "    def predict(self, X):\n",
    "        return self.b0 + (self.b1 * X)"
   ]
  },
  {
   "cell_type": "markdown",
   "metadata": {},
   "source": [
    "### c.\tRegressão Linear multivariada – método analítico"
   ]
  },
  {
   "cell_type": "code",
   "execution_count": 4,
   "metadata": {},
   "outputs": [],
   "source": [
    "# MLR_MA = MultivariateLinearRegressionMA \n",
    "class MLR_MA():\n",
    "    def __init__(self):\n",
    "        pass\n",
    "        \n",
    "    def fit(self, X, y):\n",
    "        n = X.shape[0]\n",
    "        X_ = np.c_[np.ones(n),X]\n",
    "            \n",
    "        self.b = np.linalg.pinv(X_.T @ X_) @ X_.T @ y\n",
    "            \n",
    "    def predict(self, X):\n",
    "        n = X.shape[0]\n",
    "        X_ = np.c_[np.ones(n),X]\n",
    "        \n",
    "        return X_ @ self.b"
   ]
  },
  {
   "cell_type": "markdown",
   "metadata": {},
   "source": [
    "### d. Regressão Linear multivariada – gradiente descendente "
   ]
  },
  {
   "cell_type": "code",
   "execution_count": 5,
   "metadata": {},
   "outputs": [],
   "source": [
    "# MLR_GD = MultivariateLinearRegressionGD \n",
    "class MLR_GD():\n",
    "    def __init__(self, learning_rate=0.01, epochs=1, epoch_mse=False):\n",
    "        self.learning_rate = learning_rate\n",
    "        self.epochs = epochs\n",
    "        self.b = np.array([])\n",
    "        self.epoch_mse = epoch_mse\n",
    "        self.mse = np.array([])\n",
    "\n",
    "    def calculate_gradient_descent(self,X, y):\n",
    "        y_pred = self.predict(X)\n",
    "        error = y - y_pred\n",
    "\n",
    "        for i in range(X.shape[1]):\n",
    "            self.b[i] = self.b[i] + (self.learning_rate * np.mean(error * X[:, i]))\n",
    "            \n",
    "        if self.epoch_mse:\n",
    "            mse = np.mean((y - self.predict(X)) ** 2)\n",
    "            self.mse = np.append(self.mse, mse)\n",
    "    \n",
    "    def fit(self, X, y):\n",
    "        ones = np.ones((X.shape[0],1))\n",
    "        X = np.hstack((ones,X))\n",
    "\n",
    "        for _ in range(X.shape[1]):\n",
    "            self.b = np.append(self.b, random.random())\n",
    "\n",
    "        for _ in range(self.epochs):\n",
    "            self.calculate_gradient_descent(X, y)\n",
    "        \n",
    "    def predict(self, X):\n",
    "        y_predict = self.b[0]\n",
    "\n",
    "        for i in range(1, self.b.shape[0]):\n",
    "            y_predict += self.b[i]*X[:,i-1]\n",
    "\n",
    "        return y_predict"
   ]
  },
  {
   "cell_type": "markdown",
   "metadata": {},
   "source": [
    "### e. Regressão Linear multivariada – gradiente descendente estocástico"
   ]
  },
  {
   "cell_type": "code",
   "execution_count": 6,
   "metadata": {},
   "outputs": [],
   "source": [
    "# MLR_SGD = MultivariateLinearRegressionSGD \n",
    "class MLR_SGD():\n",
    "    def __init__(self, learning_rate=0.01, epochs=100, epoch_mse=False):\n",
    "        self.learning_rate = learning_rate\n",
    "        self.epochs = epochs\n",
    "        self.b = np.array([])\n",
    "        self.epoch_mse = epoch_mse\n",
    "        self.mse = np.array([])\n",
    "\n",
    "    def calculate_stochastic_gradient_descent(self,X, y):\n",
    "        y_pred = self.predict(X)\n",
    "        error = y - y_pred\n",
    "\n",
    "        self.b = self.b + (self.learning_rate * (error @ X))\n",
    "\n",
    "        if self.epoch_mse:\n",
    "            mse = np.mean((y - self.predict(X)) ** 2)\n",
    "            self.mse = np.append(self.mse, mse)\n",
    "            \n",
    "    def fit(self, X, y):\n",
    "        ones = np.ones((X.shape[0],1))\n",
    "        X = np.hstack((ones,X))\n",
    "\n",
    "        for _ in range(X.shape[1]):\n",
    "            self.b = np.append(self.b, random.random())\n",
    "\n",
    "        for _ in range(self.epochs):\n",
    "            self.calculate_stochastic_gradient_descent(X, y)\n",
    "        \n",
    "    def predict(self, X):\n",
    "        y_predict = self.b[0]\n",
    "\n",
    "        for i in range(1, self.b.shape[0]):\n",
    "            y_predict += self.b[i]*X[:,i-1]\n",
    "\n",
    "        return y_predict "
   ]
  },
  {
   "cell_type": "markdown",
   "metadata": {},
   "source": [
    "### f g. Regressão quadrática e cúbica usando regressão múltipla"
   ]
  },
  {
   "cell_type": "code",
   "execution_count": 7,
   "metadata": {},
   "outputs": [],
   "source": [
    "# PR = Regressão Polinomial\n",
    "class PR():\n",
    "    def __init__(self, degree=2):\n",
    "        self.degree = degree\n",
    "    \n",
    "    def fit(self, X, y):\n",
    "        X_ = X\n",
    "        new_x = X\n",
    "        \n",
    "        for _ in range(2,self.degree + 1):\n",
    "            new_x = new_x * X\n",
    "            X_ = np.c_[X_, new_x]\n",
    "\n",
    "        self.model = MLR_MA()\n",
    "        self.model.fit(X_, y)\n",
    "        self.b = self.model.b\n",
    "        \n",
    "    def predict(self, X):\n",
    "        X_ =  X\n",
    "        new_x = X\n",
    "        \n",
    "        for _ in range(2,self.degree + 1):\n",
    "            new_x = new_x * X\n",
    "            X_ = np.c_[X_, new_x]\n",
    "\n",
    "        return self.model.predict(X_)"
   ]
  },
  {
   "cell_type": "markdown",
   "metadata": {},
   "source": [
    "### h. Regressão Linear Regularizada Multivariada – gradiente descendente"
   ]
  },
  {
   "cell_type": "code",
   "execution_count": 8,
   "metadata": {},
   "outputs": [],
   "source": [
    "#RML_R = Regularized Multiple Linear Regression \n",
    "class MLR_R():\n",
    "    def __init__(self, learning_rate=0.01, epochs=100, _lambda = 1, epoch_mse=False):\n",
    "        self.learning_rate = learning_rate\n",
    "        self.epochs = epochs\n",
    "        self.b = np.array([])\n",
    "        self._lambda = _lambda\n",
    "        self.epoch_mse = epoch_mse\n",
    "        self.mse = np.array([])\n",
    "\n",
    "    def calculate_gradient_descent(self, X, y):\n",
    "        y_pred = self.predict(X)\n",
    "        error = y - y_pred\n",
    "\n",
    "        self.b0 = self.b0 + (self.learning_rate * np.mean(error))\n",
    "\n",
    "        regularize = self._lambda * np.mean(self.b)\n",
    "        \n",
    "        for i in range(X.shape[1]):\n",
    "            self.b[i] = self.b[i] + (self.learning_rate * (np.mean(error * X[:, i]) - regularize))\n",
    "        \n",
    "        if self.epoch_mse:\n",
    "            mse = np.mean((y - self.predict(X)) ** 2)\n",
    "            self.mse = np.append(self.mse, mse)\n",
    "    \n",
    "    def fit(self, X, y):\n",
    "        self.b0 = random.random()\n",
    "        \n",
    "        for _ in range(X.shape[1]):\n",
    "            self.b = np.append(self.b, random.random())\n",
    "\n",
    "        for _ in range(self.epochs):\n",
    "            self.calculate_gradient_descent(X, y)\n",
    "        \n",
    "    def predict(self, X):\n",
    "        y_predict = self.b0\n",
    "\n",
    "        for i in range(self.b.shape[0]):\n",
    "            y_predict += self.b[i]*X[:,i]\n",
    "\n",
    "        return y_predict"
   ]
  },
  {
   "cell_type": "markdown",
   "metadata": {},
   "source": [
    "### 2. Métodos de avaliação"
   ]
  },
  {
   "cell_type": "code",
   "execution_count": 9,
   "metadata": {},
   "outputs": [],
   "source": [
    "class Evaluate():\n",
    "    def __init__(self):\n",
    "        pass\n",
    "        self.mses = np.array([])\n",
    "\n",
    "    def MSE(self, y_true, y_predict):\n",
    "        return np.mean((y_true - y_predict) ** 2)\n",
    "    \n",
    "    def RSS(self, y_true, y_predict):\n",
    "        return ((y_true - y_predict) ** 2).sum()\n",
    "    \n",
    "    def TSS(self, y_true):\n",
    "        return np.sum([(y - np.mean(y_true))**2 for y in y_true])\n",
    "    \n",
    "    def R2(self, y_true, y_predict):\n",
    "        return 1 - (self.RSS(y_true, y_predict) / self.TSS(y_true))"
   ]
  },
  {
   "cell_type": "markdown",
   "metadata": {},
   "source": [
    "### 3 e 4. Carregar o conjunto de dados Boston House Price Dataset "
   ]
  },
  {
   "cell_type": "code",
   "execution_count": 10,
   "metadata": {},
   "outputs": [],
   "source": [
    "data = np.loadtxt(\"./data_trab1/housing.csv\")\n",
    "X = data[:,-2]\n",
    "y = data[:,-1]"
   ]
  },
  {
   "cell_type": "markdown",
   "metadata": {},
   "source": [
    "### 5. Embaralhe as amostras com seus valores alvo. Divida o conjunto de dados em 80% para treino e 20% para teste"
   ]
  },
  {
   "cell_type": "code",
   "execution_count": 11,
   "metadata": {},
   "outputs": [],
   "source": [
    "X_train, X_test, y_train, y_test = train_test_split(X, y, shuffle=True, test_size=0.2)"
   ]
  },
  {
   "cell_type": "markdown",
   "metadata": {},
   "source": [
    "### 6. Aplique a regressão linear univariada e da regressão quadrátia e cúbica "
   ]
  },
  {
   "cell_type": "markdown",
   "metadata": {},
   "source": [
    "### Reporte MSE e R2 score para o conjunto de treino e o de teste"
   ]
  },
  {
   "cell_type": "code",
   "execution_count": 12,
   "metadata": {},
   "outputs": [],
   "source": [
    "evaluate = Evaluate()"
   ]
  },
  {
   "cell_type": "code",
   "execution_count": 13,
   "metadata": {},
   "outputs": [
    {
     "name": "stdout",
     "output_type": "stream",
     "text": [
      "Avaliação: \n",
      " \n",
      "-Treino:\n",
      "R2:  0.5552010251303676\n",
      "MSE:  35.34013579756894\n",
      " \n",
      "-Teste:\n",
      "R2:  0.5036650642327651\n",
      "MSE:  51.450627108400354\n",
      " \n",
      "Coeficientes: 34.386822961076625 e -0.9615860419083397 \n"
     ]
    }
   ],
   "source": [
    "# UnivariateLinearRegression-MA \n",
    "\n",
    "ULR_MA_ = ULR_MA()\n",
    "ULR_MA_.fit(X_train, y_train)\n",
    "\n",
    "y_train_predict = ULR_MA_.predict(X_train)\n",
    "y_test_predict = ULR_MA_.predict(X_test)\n",
    "\n",
    "print(\"Avaliação: \")\n",
    "print(\" \")\n",
    "print(\"-Treino:\")\n",
    "print(\"R2: \", evaluate.R2(y_train, y_train_predict))\n",
    "print(\"MSE: \", evaluate.MSE(y_train, y_train_predict))\n",
    "print(\" \")\n",
    "print(\"-Teste:\")\n",
    "print(\"R2: \", evaluate.R2(y_test, y_test_predict))\n",
    "print(\"MSE: \", evaluate.MSE(y_test, y_test_predict))\n",
    "print(\" \")\n",
    "print(\"Coeficientes: {} e {} \".format(ULR_MA_.b0, ULR_MA_.b1))"
   ]
  },
  {
   "cell_type": "code",
   "execution_count": 14,
   "metadata": {
    "scrolled": true
   },
   "outputs": [
    {
     "name": "stdout",
     "output_type": "stream",
     "text": [
      "Avaliação: \n",
      " \n",
      "-Treino:\n",
      "R2:  0.236845622616075\n",
      "MSE:  60.634086081609794\n",
      " \n",
      "-Teste:\n",
      "R2:  0.18878204827977962\n",
      "MSE:  84.09174799085876\n",
      " \n",
      "Coeficientes: 23.999302995403568 e -0.3237446473251135 \n"
     ]
    }
   ],
   "source": [
    "# UnivariateLinearRegression-GD\n",
    "\n",
    "ULR_GD_ = ULR_GD(learning_rate = 0.005, epochs=1000)\n",
    "ULR_GD_.fit(X_train, y_train)\n",
    "\n",
    "y_train_predict = ULR_GD_.predict(X_train)\n",
    "y_test_predict = ULR_GD_.predict(X_test)\n",
    "\n",
    "print(\"Avaliação: \")\n",
    "print(\" \")\n",
    "print(\"-Treino:\")\n",
    "print(\"R2: \", evaluate.R2(y_train, y_train_predict))\n",
    "print(\"MSE: \", evaluate.MSE(y_train, y_train_predict))\n",
    "print(\" \")\n",
    "print(\"-Teste:\")\n",
    "print(\"R2: \", evaluate.R2(y_test, y_test_predict))\n",
    "print(\"MSE: \", evaluate.MSE(y_test, y_test_predict))\n",
    "print(\" \")\n",
    "print(\"Coeficientes: {} e {} \".format(ULR_GD_.b0, ULR_GD_.b1))"
   ]
  },
  {
   "cell_type": "code",
   "execution_count": 15,
   "metadata": {
    "scrolled": true
   },
   "outputs": [
    {
     "name": "stdout",
     "output_type": "stream",
     "text": [
      "Avaliação: \n",
      " \n",
      "-Treino:\n",
      "R2:  0.6401734597750464\n",
      "MSE:  28.588912100902064\n",
      " \n",
      "-Teste:\n",
      "R2:  0.6373639334680138\n",
      "MSE:  37.59125479723277\n",
      " \n",
      "Coeficientes:  [42.2538977  -2.29182382  0.04293217]\n"
     ]
    }
   ],
   "source": [
    "# Regressão Polinomial (Quadrática)\n",
    "\n",
    "PR_2 = PR(degree = 2)\n",
    "PR_2.fit(X_train, y_train)\n",
    "\n",
    "y_train_predict = PR_2.predict(X_train)\n",
    "y_test_predict = PR_2.predict(X_test)\n",
    "\n",
    "print(\"Avaliação: \")\n",
    "print(\" \")\n",
    "print(\"-Treino:\")\n",
    "print(\"R2: \", evaluate.R2(y_train, y_train_predict))\n",
    "print(\"MSE: \", evaluate.MSE(y_train, y_train_predict))\n",
    "print(\" \")\n",
    "print(\"-Teste:\")\n",
    "print(\"R2: \", evaluate.R2(y_test, y_test_predict))\n",
    "print(\"MSE: \", evaluate.MSE(y_test, y_test_predict))\n",
    "print(\" \")\n",
    "print(\"Coeficientes: \", PR_2.b)"
   ]
  },
  {
   "cell_type": "code",
   "execution_count": 16,
   "metadata": {
    "scrolled": true
   },
   "outputs": [
    {
     "name": "stdout",
     "output_type": "stream",
     "text": [
      "Avaliação: \n",
      " \n",
      "-Treino:\n",
      "R2:  0.6637121755451302\n",
      "MSE:  26.718715767695688\n",
      " \n",
      "-Teste:\n",
      "R2:  0.6259446020200831\n",
      "MSE:  38.77499529546408\n",
      " \n",
      "Coeficientes:  [ 4.92615962e+01 -4.17025867e+00  1.74708258e-01 -2.58276308e-03]\n"
     ]
    }
   ],
   "source": [
    "# Regressão Polinomial (Cúbica)\n",
    "\n",
    "PR_3 = PR(degree = 3)\n",
    "PR_3.fit(X_train, y_train)\n",
    "\n",
    "y_train_predict = PR_3.predict(X_train)\n",
    "y_test_predict = PR_3.predict(X_test)\n",
    "\n",
    "print(\"Avaliação: \")\n",
    "print(\" \")\n",
    "print(\"-Treino:\")\n",
    "print(\"R2: \", evaluate.R2(y_train, y_train_predict))\n",
    "print(\"MSE: \", evaluate.MSE(y_train, y_train_predict))\n",
    "print(\" \")\n",
    "print(\"-Teste:\")\n",
    "print(\"R2: \", evaluate.R2(y_test, y_test_predict))\n",
    "print(\"MSE: \", evaluate.MSE(y_test, y_test_predict))\n",
    "print(\" \")\n",
    "print(\"Coeficientes: \", PR_3.b)"
   ]
  },
  {
   "cell_type": "markdown",
   "metadata": {},
   "source": [
    "#### Ao analisar os resultados das métricas de avaliação R2 e MSE, pode-se concuir que para Treino o método de Regressão Cúbica usando regressão múltipla foi o que melhor predisse os dados, pois foi o que teve R2 mais próximo de 1 e o MSE menor. E para teste, o método de Regressão Quadrática usando regressão múltipla foi o que melhor predisse os dados, pois foi o que teve R2 mais próximo de 1 e o MSE menor."
   ]
  },
  {
   "cell_type": "markdown",
   "metadata": {},
   "source": [
    "### 7. Carregue o conjunto de dados trab1_data.csv"
   ]
  },
  {
   "cell_type": "code",
   "execution_count": 17,
   "metadata": {},
   "outputs": [],
   "source": [
    "data = np.loadtxt(\"./data_trab1/trab1_data.csv\", skiprows=1, delimiter=\",\")\n",
    "\n",
    "X = data[:,:-1]\n",
    "y = data[:, -1]\n",
    "\n",
    "# Normalizando os dados\n",
    "X = (X - X.min()) / (X.max() - X.min())\n",
    "\n",
    "# Dividindo e embaralhando os dados\n",
    "X_train, X_test, y_train, y_test = train_test_split(X, y, shuffle=True, test_size=0.2)"
   ]
  },
  {
   "cell_type": "markdown",
   "metadata": {},
   "source": [
    "### Aplique a regressão linear multivariada\n",
    "### 8.  a, b)Reporte MSE e R2 score para o conjunto de treino e o de teste"
   ]
  },
  {
   "cell_type": "code",
   "execution_count": 18,
   "metadata": {
    "scrolled": true
   },
   "outputs": [
    {
     "name": "stdout",
     "output_type": "stream",
     "text": [
      "Avaliação: \n",
      " \n",
      "-Treino:\n",
      "R2:  0.9034398449348315\n",
      "MSE:  2.52984950866477\n",
      " \n",
      "-Teste:\n",
      "R2:  0.8719815166577056\n",
      "MSE:  3.9058047211128795\n",
      " \n",
      "Coeficientes:  [ 2.83832789  0.4200419  13.25393948 56.4733189   0.08426872]\n"
     ]
    }
   ],
   "source": [
    "# MultivariateLinearRegression-MA\n",
    "\n",
    "MLR_MA_ = MLR_MA()\n",
    "MLR_MA_.fit(X_train, y_train)\n",
    "\n",
    "y_train_predict = MLR_MA_.predict(X_train)\n",
    "y_test_predict = MLR_MA_.predict(X_test)\n",
    "\n",
    "print(\"Avaliação: \")\n",
    "print(\" \")\n",
    "print(\"-Treino:\")\n",
    "print(\"R2: \", evaluate.R2(y_train, y_train_predict))\n",
    "print(\"MSE: \", evaluate.MSE(y_train, y_train_predict))\n",
    "print(\" \")\n",
    "print(\"-Teste:\")\n",
    "print(\"R2: \", evaluate.R2(y_test, y_test_predict))\n",
    "print(\"MSE: \", evaluate.MSE(y_test, y_test_predict))\n",
    "print(\" \")\n",
    "print(\"Coeficientes: \", MLR_MA_.b)"
   ]
  },
  {
   "cell_type": "code",
   "execution_count": 19,
   "metadata": {
    "scrolled": true
   },
   "outputs": [
    {
     "name": "stdout",
     "output_type": "stream",
     "text": [
      "Avaliação: \n",
      " \n",
      "-Treino:\n",
      "R2:  0.5973547856624375\n",
      "MSE:  10.549193888210196\n",
      " \n",
      "-Teste:\n",
      "R2:  0.6884987036719106\n",
      "MSE:  9.50380915369801\n",
      " \n",
      "Coeficientes:  [ 8.09848229 -0.55515327 13.29798423  2.93133572  2.27112132]\n"
     ]
    }
   ],
   "source": [
    "# MultivariateLinearRegression-GD\n",
    "\n",
    "MLR_GD_ = MLR_GD(learning_rate=0.009, epochs=1000, epoch_mse=True)\n",
    "MLR_GD_.fit(X_train, y_train)\n",
    "\n",
    "y_train_predict = MLR_GD_.predict(X_train)\n",
    "y_test_predict = MLR_GD_.predict(X_test)\n",
    "\n",
    "print(\"Avaliação: \")\n",
    "print(\" \")\n",
    "print(\"-Treino:\")\n",
    "print(\"R2: \", evaluate.R2(y_train, y_train_predict))\n",
    "print(\"MSE: \", evaluate.MSE(y_train, y_train_predict))\n",
    "print(\" \")\n",
    "print(\"-Teste:\")\n",
    "print(\"R2: \", evaluate.R2(y_test, y_test_predict))\n",
    "print(\"MSE: \", evaluate.MSE(y_test, y_test_predict))\n",
    "print(\" \")\n",
    "print(\"Coeficientes: \", MLR_GD_.b)"
   ]
  },
  {
   "cell_type": "code",
   "execution_count": 20,
   "metadata": {
    "scrolled": true
   },
   "outputs": [
    {
     "name": "stdout",
     "output_type": "stream",
     "text": [
      "Avaliação: \n",
      " \n",
      "-Treino:\n",
      "R2:  0.5893309232390569\n",
      "MSE:  10.759416877140598\n",
      " \n",
      "-Teste:\n",
      "R2:  0.6257075642402146\n",
      "MSE:  11.419547587972604\n",
      " \n",
      "Coeficientes:  [ 8.23780919  0.9448647  10.82288236  1.61814897  1.9135805 ]\n"
     ]
    }
   ],
   "source": [
    "# MultivariateLinearRegression-SGD\n",
    "\n",
    "MLR_SGD_ = MLR_SGD(learning_rate=0.001, epochs=40, epoch_mse=True)\n",
    "MLR_SGD_.fit(X_train, y_train)\n",
    "\n",
    "y_train_predict = MLR_SGD_.predict(X_train)\n",
    "y_test_predict = MLR_SGD_.predict(X_test)\n",
    "\n",
    "print(\"Avaliação: \")\n",
    "print(\" \")\n",
    "print(\"-Treino:\")\n",
    "print(\"R2: \", evaluate.R2(y_train, y_train_predict))\n",
    "print(\"MSE: \", evaluate.MSE(y_train, y_train_predict))\n",
    "print(\" \")\n",
    "print(\"-Teste:\")\n",
    "print(\"R2: \", evaluate.R2(y_test, y_test_predict))\n",
    "print(\"MSE: \", evaluate.MSE(y_test, y_test_predict))\n",
    "print(\" \")\n",
    "print(\"Coeficientes: \", MLR_SGD_.b)"
   ]
  },
  {
   "cell_type": "code",
   "execution_count": 21,
   "metadata": {},
   "outputs": [
    {
     "name": "stdout",
     "output_type": "stream",
     "text": [
      "Avaliação: \n",
      " \n",
      "-Treino:\n",
      "R2:  0.5193069775053181\n",
      "MSE:  12.59402499877948\n",
      " \n",
      "-Teste:\n",
      "R2:  0.6394997830173481\n",
      "MSE:  10.998751216949255\n",
      " \n",
      "Coeficientes:  [-4.56684251 12.17041425 -1.02080221 -6.07997039]\n"
     ]
    }
   ],
   "source": [
    "# Regularized Multiple Linear Regression \n",
    "\n",
    "MLR_R_ = MLR_R(learning_rate=0.1, epochs=1000, _lambda = 1, epoch_mse=False)\n",
    "MLR_R_.fit(X_train, y_train)\n",
    "\n",
    "y_train_predict = MLR_R_.predict(X_train)\n",
    "y_test_predict = MLR_R_.predict(X_test)\n",
    "\n",
    "print(\"Avaliação: \")\n",
    "print(\" \")\n",
    "print(\"-Treino:\")\n",
    "print(\"R2: \", evaluate.R2(y_train, y_train_predict))\n",
    "print(\"MSE: \", evaluate.MSE(y_train, y_train_predict))\n",
    "print(\" \")\n",
    "print(\"-Teste:\")\n",
    "print(\"R2: \", evaluate.R2(y_test, y_test_predict))\n",
    "print(\"MSE: \", evaluate.MSE(y_test, y_test_predict))\n",
    "print(\" \")\n",
    "print(\"Coeficientes: \", MLR_R_.b)"
   ]
  },
  {
   "cell_type": "markdown",
   "metadata": {},
   "source": [
    "#### Ao analisar os resultados das métricas de avaliação R2 e MSE, pode-se concuir que para Treino e para Teste o método de Regressão Linear multivariada – método analítico foi o que melhor predisse os dados, pois foi o que teve R2 mais próximo de 1 e o MSE menor. "
   ]
  },
  {
   "cell_type": "markdown",
   "metadata": {},
   "source": [
    "### 8. c)"
   ]
  },
  {
   "cell_type": "code",
   "execution_count": 22,
   "metadata": {
    "scrolled": true
   },
   "outputs": [
    {
     "data": {
      "image/png": "[encoded data removed]",
      "text/plain": [
       "<Figure size 432x288 with 1 Axes>"
      ]
     },
     "metadata": {
      "needs_background": "light"
     },
     "output_type": "display_data"
    }
   ],
   "source": [
    "# Regressão Linear multivariada – gradiente descendente\n",
    "\n",
    "# Desenha reta\n",
    "plt.plot(range(1,MLR_GD_.epochs+1), MLR_GD_.mse, color='green')\n",
    "\n",
    "plt.xlabel('Epoch')\n",
    "plt.ylabel('MSE')\n",
    "\n",
    "plt.show()"
   ]
  },
  {
   "cell_type": "code",
   "execution_count": 23,
   "metadata": {},
   "outputs": [
    {
     "data": {
      "image/png": "[encoded data removed]",
      "text/plain": [
       "<Figure size 432x288 with 1 Axes>"
      ]
     },
     "metadata": {
      "needs_background": "light"
     },
     "output_type": "display_data"
    }
   ],
   "source": [
    "# Regressão Linear multivariada – gradiente descendente\n",
    "\n",
    "# Desenha reta\n",
    "plt.plot(range(1,MLR_SGD_.epochs+1), MLR_SGD_.mse, color='green')\n",
    "\n",
    "plt.xlabel('Epoch')\n",
    "plt.ylabel('MSE')\n",
    "\n",
    "plt.show()"
   ]
  },
  {
   "cell_type": "markdown",
   "metadata": {},
   "source": [
    "####  Ao analisar os gráficos chega-se a conclusão que o método Regressão Linear multivariada com gradiente descendente estocástico converge mais rapidamente, pois para alcanças erros menores precisa de um menor número de épocas e uma menor taxa de aprendizado."
   ]
  },
  {
   "cell_type": "markdown",
   "metadata": {},
   "source": [
    "### 8. d)"
   ]
  },
  {
   "cell_type": "code",
   "execution_count": 24,
   "metadata": {
    "scrolled": true
   },
   "outputs": [
    {
     "data": {
      "image/png": "[encoded data removed]",
      "text/plain": [
       "<Figure size 432x288 with 1 Axes>"
      ]
     },
     "metadata": {
      "needs_background": "light"
     },
     "output_type": "display_data"
    },
    {
     "data": {
      "image/png": "[encoded data removed]",
      "text/plain": [
       "<Figure size 432x288 with 1 Axes>"
      ]
     },
     "metadata": {
      "needs_background": "light"
     },
     "output_type": "display_data"
    },
    {
     "data": {
      "image/png": "[encoded data removed]",
      "text/plain": [
       "<Figure size 432x288 with 1 Axes>"
      ]
     },
     "metadata": {
      "needs_background": "light"
     },
     "output_type": "display_data"
    },
    {
     "data": {
      "image/png": "[encoded data removed]",
      "text/plain": [
       "<Figure size 432x288 with 1 Axes>"
      ]
     },
     "metadata": {
      "needs_background": "light"
     },
     "output_type": "display_data"
    },
    {
     "data": {
      "image/png": "[encoded data removed]",
      "text/plain": [
       "<Figure size 432x288 with 1 Axes>"
      ]
     },
     "metadata": {
      "needs_background": "light"
     },
     "output_type": "display_data"
    }
   ],
   "source": [
    "# Regressão Linear Multivariada Regularizada com lambda de 1 até 5.\n",
    "\n",
    "_lambda = 6\n",
    "mse = np.array([])\n",
    "\n",
    "for l in range(1, _lambda):\n",
    "    MLR_R_1 = MLR_R(learning_rate=0.01, epochs=120, _lambda = l, epoch_mse=True)\n",
    "    MLR_R_1.fit(X_train, y_train)\n",
    "    \n",
    "    plt.plot(range(1,MLR_R_1.epochs+1), MLR_R_1.mse, color='green', label='Treino')\n",
    "    \n",
    "    MLR_R_2 = MLR_R(learning_rate=0.01, epochs=120, _lambda = l, epoch_mse=True)\n",
    "    MLR_R_2.fit(X_test, y_test)\n",
    "    \n",
    "    plt.plot(range(1,MLR_R_2.epochs+1), MLR_R_2.mse, color='red', label='Teste')\n",
    "    \n",
    "    plt.title(\"MSE com lambda = {}\".format(l))\n",
    "    \n",
    "    plt.legend()\n",
    "    \n",
    "    plt.xlabel(\"Epoch\")\n",
    "    plt.ylabel(\"MSE\")\n",
    "        \n",
    "    plt.show()"
   ]
  },
  {
   "cell_type": "markdown",
   "metadata": {},
   "source": [
    "#### Ao analisar os gráficos chega-se a conclusão que o valor mais adequeado para lambda é o 2, pois no gráfico com lambda igual a 2 os valores de erro para treino e para teste são mais próximos do que nos outros gráficos.\n",
    "\n"
   ]
  }
 ],
 "metadata": {
  "kernelspec": {
   "display_name": "Python 3",
   "language": "python",
   "name": "python3"
  },
  "language_info": {
   "codemirror_mode": {
    "name": "ipython",
    "version": 3
   },
   "file_extension": ".py",
   "mimetype": "text/x-python",
   "name": "python",
   "nbconvert_exporter": "python",
   "pygments_lexer": "ipython3",
   "version": "3.7.6"
  }
 },
 "nbformat": 4,
 "nbformat_minor": 4
}
