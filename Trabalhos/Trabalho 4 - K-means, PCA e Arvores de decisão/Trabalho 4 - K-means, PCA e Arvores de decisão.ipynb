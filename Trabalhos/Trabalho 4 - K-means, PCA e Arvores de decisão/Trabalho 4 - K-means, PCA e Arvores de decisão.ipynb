{
 "cells": [
  {
   "cell_type": "markdown",
   "metadata": {},
   "source": [
    "# Trabalho 4 - K-means, PCA e Arvores de decisão"
   ]
  },
  {
   "cell_type": "markdown",
   "metadata": {},
   "source": [
    "## Código + Relatório"
   ]
  },
  {
   "cell_type": "markdown",
   "metadata": {},
   "source": [
    "## Código:"
   ]
  },
  {
   "cell_type": "code",
   "execution_count": 33,
   "metadata": {},
   "outputs": [],
   "source": [
    "import numpy as np\n",
    "import matplotlib.pyplot as plt\n",
    "import pandas as pd\n",
    "import math\n",
    "from scipy.spatial import distance\n",
    "from sklearn.preprocessing import StandardScaler"
   ]
  },
  {
   "cell_type": "markdown",
   "metadata": {},
   "source": [
    "## K-means"
   ]
  },
  {
   "cell_type": "code",
   "execution_count": 34,
   "metadata": {},
   "outputs": [],
   "source": [
    "class K_means():\n",
    "    def __init__(self, k_):\n",
    "        self.k_ = k_\n",
    "    \n",
    "    def euclidian_distance(self, straight1, straight2):\n",
    "        return np.sqrt(((straight1 - straight2)**2).sum())\n",
    "\n",
    "    def assign_group(self, X):\n",
    "        self.classes = {}\n",
    "        for i in range(self.k_):\n",
    "            self.classes[i] = np.zeros(X.shape[1])\n",
    "\n",
    "        for x in X:\n",
    "            distances = np.array([self.euclidian_distance(x, centroid) for centroid in self.centroids])\n",
    "            label = np.argmin(distances)\n",
    "            self.classes[label] = np.vstack((self.classes[label], x))\n",
    "\n",
    "    def cal_centroids(self, X):\n",
    "        previous = self.centroids\n",
    "        optimal = False\n",
    "        \n",
    "        while(not optimal):    \n",
    "            countDifferents = 0\n",
    "            for label in self.classes:\n",
    "                self.centroids[label] = np.average(self.classes[label], axis = 0)\n",
    "\n",
    "                if(not (previous[label] == self.centroids[label]).all()):\n",
    "                    countDifferents += 1\n",
    "\n",
    "            if(countDifferents == 0):\n",
    "                optimal = True\n",
    "\n",
    "            if(not optimal):\n",
    "                self.assign_group(X)\n",
    "\n",
    "    def fit(self, X):\n",
    "        self.centroids = np.empty((self.k_, X.shape[1]), float)\n",
    "        for i in range(self.k_):\n",
    "            self.centroids[i] = np.array([np.random.randint(np.min(X[:, j]), np.max(X[:, j])) for j in range(X.shape[1])])\n",
    "\n",
    "        self.assign_group(X)\n",
    "        self.cal_centroids(X)\n",
    "\n",
    "    def predict(self, X):\n",
    "        self.class_distance = np.array([])\n",
    "        predicted = np.array([])\n",
    "        for x in X:\n",
    "            distances = np.array([self.euclidian_distance(x, centroid) for centroid in self.centroids])\n",
    "            label = np.argmin(distances)\n",
    "            self.class_distance = np.append(self.class_distance,np.min(distances))\n",
    "            predicted = np.append(predicted, label)\n",
    "\n",
    "        return predicted"
   ]
  },
  {
   "cell_type": "code",
   "execution_count": 35,
   "metadata": {},
   "outputs": [],
   "source": [
    "def k_fold (X, y, k, metodo):\n",
    "    e = np.array([])\n",
    "    part = 1/k\n",
    "    qtd_part = int(X.shape[0] * part)\n",
    "    \n",
    "    for i in range(0, k):\n",
    "        init_part = qtd_part * i\n",
    "        end_part = qtd_part * (i+1)\n",
    "        \n",
    "        X_train = X[init_part:end_part, :]\n",
    "        y_train = y[init_part:end_part]\n",
    "        \n",
    "        X_test = X[:init_part, :]\n",
    "        X_test = np.vstack((X_test, X[end_part:, :]))\n",
    "            \n",
    "        y_test = y[0:init_part]\n",
    "        y_test = np.append(y_test, y[end_part:])\n",
    "                \n",
    "        metodo.fit(X_train, y_train)\n",
    "        y_pred = metodo.predict(X_test)\n",
    "        \n",
    "        e = np.append(e, acuracia(y_test, y_pred))\n",
    "                      \n",
    "    return print(\"Erros: \", e)"
   ]
  },
  {
   "cell_type": "markdown",
   "metadata": {},
   "source": [
    "## PCA"
   ]
  },
  {
   "cell_type": "code",
   "execution_count": 36,
   "metadata": {},
   "outputs": [],
   "source": [
    "class PCA():\n",
    "    def __init__(self, n_components):\n",
    "        self.n_components_ = n_components\n",
    "\n",
    "    def cal_covariance(self, X):\n",
    "        n = X.shape[0]\n",
    "        return ((X - np.mean(X, axis=0)).T @ (X - np.mean(X, axis=0))) / (n - 1)\n",
    "    \n",
    "    def fit(self, X):\n",
    "        X = StandardScaler().fit_transform(X)\n",
    "        covariance = self.cal_covariance(X)\n",
    "        values, vectors = np.linalg.eig(covariance)\n",
    "        indices = (-values).argsort()[:self.n_components_]\n",
    "        self.w = vectors[:, indices]\n",
    "        self.variance = np.array([])\n",
    "        \n",
    "        for i in indices:\n",
    "            self.variance = np.append(self.variance, values[i] / values.sum())\n",
    "\n",
    "    def transform(self, X):\n",
    "        X = StandardScaler().fit_transform(X)\n",
    "        return (self.w.T @ X.T).T"
   ]
  },
  {
   "cell_type": "code",
   "execution_count": 37,
   "metadata": {},
   "outputs": [],
   "source": [
    "def acuracia(y_true, y_pred):\n",
    "    count = 0;\n",
    "    for t, p in zip(y_true, y_pred):\n",
    "        if t == p:\n",
    "            count += 1\n",
    "    return (count / y_true.shape[0])"
   ]
  },
  {
   "cell_type": "code",
   "execution_count": 38,
   "metadata": {},
   "outputs": [],
   "source": [
    "def k_fold (X, y, k, metodo):\n",
    "    e = np.array([])\n",
    "    part = 1/k\n",
    "    qtd_part = int(X.shape[0] * part)\n",
    "    \n",
    "    for i in range(0, k):\n",
    "        init_part = qtd_part * i\n",
    "        end_part = qtd_part * (i+1)\n",
    "        \n",
    "        X_train = X[init_part:end_part, :]\n",
    "        y_train = y[init_part:end_part]\n",
    "        \n",
    "        X_test = X[:init_part, :]\n",
    "        X_test = np.vstack((X_test, X[end_part:, :]))\n",
    "            \n",
    "        y_test = y[0:init_part]\n",
    "        y_test = np.append(y_test, y[end_part:])\n",
    "                \n",
    "        metodo.fit(X_train, y_train)\n",
    "        y_pred = metodo.predict(X_test)\n",
    "        \n",
    "        e = np.append(e, acuracia(y_test, y_pred))\n",
    "                      \n",
    "    return print(\"Erros: \", e)"
   ]
  },
  {
   "cell_type": "markdown",
   "metadata": {},
   "source": [
    "## Árvore de decisão"
   ]
  },
  {
   "cell_type": "code",
   "execution_count": 40,
   "metadata": {},
   "outputs": [],
   "source": [
    "class Node:\n",
    "    def __init__(self, data, feature):\n",
    "        self.feature = feature\n",
    "        self.value = data\n",
    "        self.left = None\n",
    "        self.right = None"
   ]
  },
  {
   "cell_type": "code",
   "execution_count": 41,
   "metadata": {},
   "outputs": [],
   "source": [
    "class DecisionTree_Classifier():\n",
    "    def __init__(self):\n",
    "        self._estimator_type = \"classifier\"\n",
    "\n",
    "    def count_unique(self, y):\n",
    "        (unique, counts) = np.unique(y, return_counts=True)\n",
    "        freq = {}\n",
    "        for i in range(len(unique)):\n",
    "            freq[unique[i]] = counts[i]\n",
    "        return freq\n",
    "\n",
    "    def cal_gini(self, X, y, feature, value):\n",
    "        x = X[:, feature]\n",
    "        left = {\n",
    "            'total': 0\n",
    "        }\n",
    "        right = {\n",
    "            'total': 0\n",
    "        }\n",
    "        \n",
    "        for class_value in set(y):\n",
    "            left[class_value] = 0\n",
    "            right[class_value] = 0\n",
    "\n",
    "        for i in range(len(x)):\n",
    "            if x[i] > value:\n",
    "                right['total'] += 1\n",
    "                right[y[i]] += 1\n",
    "            else:\n",
    "                left['total'] += 1\n",
    "                left[y[i]] += 1\n",
    "\n",
    "        left_gini = 0\n",
    "        right_gini = 0\n",
    "\n",
    "        for class_value in set(y):\n",
    "            if left['total'] > 0:\n",
    "                left_gini += (left[class_value] / left['total'])  ** 2\n",
    "            if right['total'] > 0:\n",
    "                right_gini += (right[class_value] / right['total'])  ** 2\n",
    "        \n",
    "        left_gini = 1 - left_gini\n",
    "        right_gini = 1 - right_gini\n",
    "\n",
    "        class_freq = self.count_unique(y)\n",
    "        gini_root = 0\n",
    "        for class_value in set(y):\n",
    "            gini_root += (class_freq[class_value] / y.shape[0]) ** 2\n",
    "\n",
    "        return 1 - gini_root\n",
    "\n",
    "    def build_decision_tree(self,X,y, features):\n",
    "        if len(set(y)) == 1:\n",
    "            value = y[0]\n",
    "            return Node(value, None)\n",
    "            \n",
    "        if X.shape[0] == 0 or X.shape[1] == len(features):\n",
    "            class_freq = self.count_unique(y)\n",
    "            max_count = -math.inf\n",
    "            value = None\n",
    "            for i in set(y):\n",
    "                if i in class_freq:\n",
    "                    if class_freq[i] > max_count:\n",
    "                        value = i\n",
    "                        max_count = class_freq[i]\n",
    "            return Node(value, None)\n",
    "\n",
    "        max_gain = -math.inf\n",
    "        final_feature = None\n",
    "        final_value = None\n",
    "\n",
    "        for feature in range(X.shape[1]):\n",
    "            if (feature not in features):\n",
    "                for value in np.unique(X[feature]):\n",
    "                    current_gain = self.cal_gini(X, y, feature, value)\n",
    "\n",
    "                if current_gain > max_gain:\n",
    "                    max_gain = current_gain\n",
    "                    final_feature = feature\n",
    "                    final_value = value\n",
    "\n",
    "        left_y = y[X[:, final_feature] <= final_value]\n",
    "        right_y = y[X[:, final_feature] > final_value]     \n",
    "        left_X = X[X[:, final_feature] <= final_value]\n",
    "        right_X = X[X[:, final_feature] > final_value]    \n",
    "        features.append(final_feature)\n",
    "\n",
    "        left = self.build_decision_tree(left_X, left_y, features)\n",
    "        right = self.build_decision_tree(right_X, right_y, features)\n",
    "        root = Node(final_value, final_feature)\n",
    "        root.left = left\n",
    "        root.right = right\n",
    "        return root\n",
    "        \n",
    "    def fit(self,X,y):\n",
    "        features = []\n",
    "        self.classes_ = np.unique(y)\n",
    "        self.root = self.build_decision_tree(X, y, features)\n",
    "\n",
    "    def predict(self, X):\n",
    "        predict = np.array([])\n",
    "        for x in X:\n",
    "            root = self.root\n",
    "            while(not (root.feature is None)):\n",
    "                if(x[root.feature] > root.value):\n",
    "                    root = root.right\n",
    "                else:\n",
    "                    root = root.left\n",
    "            \n",
    "            predict = np.append(predict, root.value)\n",
    "        \n",
    "        return predict"
   ]
  },
  {
   "cell_type": "markdown",
   "metadata": {},
   "source": [
    "## Carregando e dividindo o conjunto de dados "
   ]
  },
  {
   "cell_type": "code",
   "execution_count": 42,
   "metadata": {},
   "outputs": [],
   "source": [
    "data = np.loadtxt(\"./trab4.data\", delimiter=\",\")\n",
    "\n",
    "X = data[:,:-1]\n",
    "y = data[:, -1]"
   ]
  },
  {
   "cell_type": "markdown",
   "metadata": {},
   "source": [
    "## Relatório:"
   ]
  },
  {
   "cell_type": "markdown",
   "metadata": {},
   "source": [
    "## K-means"
   ]
  },
  {
   "cell_type": "code",
   "execution_count": 44,
   "metadata": {},
   "outputs": [
    {
     "name": "stdout",
     "output_type": "stream",
     "text": [
      "k-means:\n"
     ]
    },
    {
     "data": {
      "image/png": "[encoded data removed]",
      "text/plain": [
       "<Figure size 432x288 with 1 Axes>"
      ]
     },
     "metadata": {
      "needs_background": "light"
     },
     "output_type": "display_data"
    }
   ],
   "source": [
    "print(\"k-means:\")\n",
    "mean_distance = np.array([])\n",
    "for k in range(2, 6):\n",
    "    distance = 0\n",
    "    for _ in range(20):\n",
    "        k_means = K_means(k)\n",
    "        k_means.fit(X)\n",
    "        k_means.predict(X)\n",
    "        distance += k_means.class_distance.mean()\n",
    "    mean_distance = np.append(mean_distance, distance/20)\n",
    "\n",
    "plt.scatter(range(2,6), mean_distance, color='red')\n",
    "plt.plot(range(2,6), mean_distance, color='green')\n",
    "\n",
    "plt.title(\"Distância encontrada com k-means\")\n",
    "plt.xlabel(\"K\")\n",
    "plt.ylabel(\"Distância\")\n",
    "plt.show()"
   ]
  },
  {
   "cell_type": "markdown",
   "metadata": {},
   "source": [
    "### O melhor valor para K é 3, pois o modelo se adaptou até bem aos dados e também porque os dados estão divididos em 3 categorias."
   ]
  },
  {
   "cell_type": "markdown",
   "metadata": {},
   "source": [
    "## PCA"
   ]
  },
  {
   "cell_type": "code",
   "execution_count": 45,
   "metadata": {},
   "outputs": [
    {
     "name": "stdout",
     "output_type": "stream",
     "text": [
      "Variância preservada: 0.9580097536148198\n"
     ]
    },
    {
     "data": {
      "image/png": "[encoded data removed]",
      "text/plain": [
       "<Figure size 432x288 with 1 Axes>"
      ]
     },
     "metadata": {
      "needs_background": "light"
     },
     "output_type": "display_data"
    }
   ],
   "source": [
    "pca = PCA(2)\n",
    "pca.fit(X)\n",
    "X = pca.transform(X)\n",
    "\n",
    "print(\"Variância preservada: {}\".format(pca.variance.sum()))\n",
    "\n",
    "plt.scatter(X[:, 0], X[:, 1], c=y, edgecolors='k')\n",
    "plt.title(\"Componentes\")\n",
    "plt.xlabel('PC1 : {:.2f}%'.format(pca.variance[0] * 100))\n",
    "plt.ylabel('PC2 : {:.2f}%'.format(pca.variance[1] * 100))\n",
    "plt.show()"
   ]
  },
  {
   "cell_type": "markdown",
   "metadata": {},
   "source": [
    "## Árvore de decisão"
   ]
  },
  {
   "cell_type": "code",
   "execution_count": 47,
   "metadata": {
    "scrolled": true
   },
   "outputs": [
    {
     "name": "stdout",
     "output_type": "stream",
     "text": [
      "Erros:  [0.16666667 0.39166667 0.16666667 0.5        0.16666667]\n"
     ]
    }
   ],
   "source": [
    "DT_C = DecisionTree_Classifier()\n",
    "\n",
    "k_fold(X, y, 5, DT_C)"
   ]
  }
 ],
 "metadata": {
  "kernelspec": {
   "display_name": "Python 3",
   "language": "python",
   "name": "python3"
  },
  "language_info": {
   "codemirror_mode": {
    "name": "ipython",
    "version": 3
   },
   "file_extension": ".py",
   "mimetype": "text/x-python",
   "name": "python",
   "nbconvert_exporter": "python",
   "pygments_lexer": "ipython3",
   "version": "3.7.6"
  }
 },
 "nbformat": 4,
 "nbformat_minor": 4
}
