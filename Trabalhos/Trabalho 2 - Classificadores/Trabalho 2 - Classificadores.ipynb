{
 "cells": [
  {
   "cell_type": "markdown",
   "metadata": {},
   "source": [
    "# Trabalho 2 - Classificadores"
   ]
  },
  {
   "cell_type": "markdown",
   "metadata": {},
   "source": [
    "## Código + Relatório"
   ]
  },
  {
   "cell_type": "code",
   "execution_count": 1,
   "metadata": {},
   "outputs": [],
   "source": [
    "import numpy as np\n",
    "import matplotlib.pyplot as plt\n",
    "from sklearn.model_selection import train_test_split\n",
    "from sklearn.metrics import plot_confusion_matrix"
   ]
  },
  {
   "cell_type": "markdown",
   "metadata": {},
   "source": [
    "### 1. a) Regressão Logística – Gradiente Descendente"
   ]
  },
  {
   "cell_type": "code",
   "execution_count": 2,
   "metadata": {},
   "outputs": [],
   "source": [
    "class LogisticRegression_GradientDescent():\n",
    "    def __init__(self, learning_rate, epochs):\n",
    "        self._estimator_type = \"classifier\"\n",
    "        self.learning_rate_ = learning_rate\n",
    "        self.epochs_ = epochs\n",
    "    \n",
    "    def calculate_gradient_descent(self, X, y):\n",
    "        y_pred = self.predict(X[:, 1:])\n",
    "        error = y - y_pred\n",
    "        \n",
    "        gradient = np.array([])\n",
    "        for i in range(X.shape[1]):\n",
    "            gradient = np.append(gradient, (self.learning_rate_ * np.sum((error * X[:, i]), axis=0) / X.shape[0]))\n",
    "        \n",
    "        return gradient\n",
    "    \n",
    "    #Atualizar os pesos \n",
    "    def update(self, X, y):\n",
    "        gradient = self.calculate_gradient_descent(X, y)\n",
    "        self.b = self.b + gradient\n",
    "\n",
    "    def fit(self, X, y):\n",
    "        ones = np.ones((X.shape[0], 1))\n",
    "        X = np.hstack((ones, X))\n",
    "\n",
    "        self.b = np.zeros(X.shape[1])\n",
    "\n",
    "        for _ in range(self.epochs_):\n",
    "            self.update(X, y)\n",
    "        \n",
    "    def predict(self, X):\n",
    "        pred = np.array([])\n",
    "\n",
    "        for x in X:\n",
    "            res = self.b[0] + (1 / (1 + np.exp(-1 * (self.b[1:].T @ x))))\n",
    "            pred = np.append(pred,  0 if res < 0.5 else 1)\n",
    "    \n",
    "        return pred"
   ]
  },
  {
   "cell_type": "markdown",
   "metadata": {},
   "source": [
    "### 1. b) Naive Bayes Gaussiano "
   ]
  },
  {
   "cell_type": "code",
   "execution_count": 3,
   "metadata": {},
   "outputs": [],
   "source": [
    "class NaiveBayesGaussian():\n",
    "    \n",
    "    def __init__(self):\n",
    "        self._estimator_type = \"classifier\"\n",
    "        self.c_mean = {} # Objeto que armazena os vetores de medias para cada classe\n",
    "        self.c_cov = []  # Matriz de covariancia\n",
    "        self.y_prob = {} # Objeto que armazena a probabilidade de cada classe\n",
    "        pass\n",
    "    \n",
    "    # Estima a probabilidade de cada classe ocorrer\n",
    "    # Estima a matriz de covariancia\n",
    "    # Estima a media de cada classe\n",
    "    def fit(self, X, y):\n",
    "        self.labels, y_counts =  np.unique(y, return_counts=True)#Definindo classes, quantidade de valores em cada classe\n",
    "        n_samples, self.n_features = X.shape #Definindo numero de amostras, número de atributos\n",
    "        self.c_cov = np.cov(X, rowvar=False) #Matriz de covariancia( sigma c)\n",
    "        \n",
    "        for label, y_count in zip(self.labels, y_counts):\n",
    "            \n",
    "            # p(c)\n",
    "            self.y_prob[label] = (y_count / y_counts.sum()) # Calcula a probabilidade de determinada classe ocorrer\n",
    "                                # y_count: a quantidade de amostras para cada classe.(ex: 20 amostras para classe 1)\n",
    "                                # y_counts: contem todos as amostras de todas as classes juntas.(ex: 100 amostras no geral, considerando todas as amostras de todas as classes)    \n",
    "            \n",
    "            #[0,2]             [1]  [1,2,1,3]                                        \n",
    "            indices = np.where(y == label) # indices em que determinada classe ocorre\n",
    "            \n",
    "            # Atributos que resultaram em determinada classe(xi)\n",
    "            x = np.array([X[index, :] for index in indices]).reshape(y_count,self.n_features) \n",
    "            \n",
    "            #Media calculada para determinada classe(mi c)\n",
    "            self.c_mean[label] = x.mean(axis=0) \n",
    "        \n",
    "        return self\n",
    "    \n",
    "    # Prediz o valor de y com base do x\n",
    "    def predict(self, X):\n",
    "        predict = np.array([])\n",
    "        n_samples = X.shape[0] #Número de amostras\n",
    "        \n",
    "        #calcula P(C|x) para cada x em X\n",
    "        for x in X:\n",
    "            pred = np.array([])\n",
    "            for label in self.labels:\n",
    "                                \n",
    "                #calcula a formula P(X|C)\n",
    "                aux = 1 / (np.power(2*np.pi, self.n_features / 2) * np.sqrt(np.linalg.det(self.c_cov)))\n",
    "                prob_x_c = aux * np.exp(-(1.0/2) * (x - self.c_mean[label]).T @ np.linalg.inv(self.c_cov)@(x - self.c_mean[label]))\n",
    "                pred = np.append(pred, prob_x_c * self.y_prob[label]) # Salva P(X|C) * P(C) para cada classe C    \n",
    "                \n",
    "            y_pred = self.labels[np.where(pred == pred.max())] # Obtem a classe com maior probabilidade\n",
    "            \n",
    "            predict = np.append(predict, y_pred)\n",
    "                            \n",
    "        return predict    "
   ]
  },
  {
   "cell_type": "markdown",
   "metadata": {},
   "source": [
    "### 1. c) Discriminante Quadrático Gaussiano "
   ]
  },
  {
   "cell_type": "code",
   "execution_count": 4,
   "metadata": {},
   "outputs": [],
   "source": [
    "class QuadraticDiscriminantGaussian():\n",
    "    \n",
    "    def __init__(self):\n",
    "        self._estimator_type = \"classifier\"\n",
    "        self.c_mean = {} #Objeto que armazena os vetores de medias para cada classe \n",
    "        self.c_cov = {} #Objeto que armazena as matrizes de covariância para cada classe\n",
    "        self.y_prob = {} #Objeto que armazena a probabilidade de cada classe\n",
    "        pass \n",
    "    \n",
    "    def fit(self, X, y):\n",
    "        self.labels, y_counts = np.unique(y, return_counts=True) #Definindo classes e quantidade de valores em cada classe \n",
    "        n_samples, self.n_features = X.shape #Definindo número de amostras e número de atribututos\n",
    "        \n",
    "        for label, y_count in zip(self.labels, y_counts):\n",
    "            \n",
    "            self.y_prob[label] = (y_count / y_counts.sum()) #Calculo da probabilidade de cada classe\n",
    "            indices = np.where(y == label) #Indices em que determinada classe ocorre \n",
    "            x = np.array([X[index, :] for index in indices]).reshape(y_count, self.n_features) #Atributos que resultam em determinada classe \n",
    "            self.c_mean[label] = x.mean(axis=0) #Media calculada para determinada classe \n",
    "            self.c_cov[label] = np.cov(x, rowvar=False) #Matriz de covariancia de cada classe\n",
    "                \n",
    "        return self\n",
    "    \n",
    "    def predict(self, X):\n",
    "        predict = np.array([])\n",
    "        n_samples = X.shape[0] #Número de amostras\n",
    "        \n",
    "        #Calcula P(C/x) para cada x em X \n",
    "        for x in X:\n",
    "            pred = np.array([])\n",
    "            for label in self.labels:\n",
    "                #Calcula a formula P(X/C)\n",
    "                aux = 1 / (np.power(2*np.pi, self.n_features / 2) * np.sqrt(np.linalg.det(self.c_cov[label])))\n",
    "                prob_x_c = aux * np.exp(-(1.0/2) * (x - self.c_mean[label]).T @ np.linalg.inv(self.c_cov[label]) @ (x - self.c_mean[label]))\n",
    "                \n",
    "                pred = np.append(pred, prob_x_c * self.y_prob[label]) # Salva P(X/C) * P(C) para cada classe C\n",
    "            \n",
    "            y_pred = self.labels[np.where(pred == pred.max())] # Obtem a classe com maior probabilidade\n",
    "            predict = np.append(predict, y_pred)\n",
    "        \n",
    "        return predict   "
   ]
  },
  {
   "cell_type": "markdown",
   "metadata": {},
   "source": [
    "### 2. Função Acurácia (retorna a porcentagem de acerto)"
   ]
  },
  {
   "cell_type": "code",
   "execution_count": 5,
   "metadata": {},
   "outputs": [],
   "source": [
    "def acuracia(y_true, y_pred):\n",
    "    count = 0;\n",
    "    for t, p in zip(y_true, y_pred):\n",
    "        if t == p:\n",
    "            count += 1\n",
    "    return (count / y_true.shape[0])"
   ]
  },
  {
   "cell_type": "markdown",
   "metadata": {},
   "source": [
    "### 3. Matriz de confusão"
   ]
  },
  {
   "cell_type": "code",
   "execution_count": 6,
   "metadata": {},
   "outputs": [],
   "source": [
    "def plot_confusion_matrix_(X, y, clf):\n",
    "    conf = plot_confusion_matrix(clf, X, y)\n",
    "    conf.ax_.set_title(\"Matriz de confusão\")\n",
    "    plt.show()"
   ]
  },
  {
   "cell_type": "markdown",
   "metadata": {},
   "source": [
    "### 4. Gráfico de dispersão"
   ]
  },
  {
   "cell_type": "code",
   "execution_count": 7,
   "metadata": {},
   "outputs": [],
   "source": [
    "def plot_boundaries(X, y, clf):\n",
    "    x_min, x_max = X[:, 0].min() - .5, X[:, 0].max() + .5\n",
    "    y_min, y_max = X[:, 1].min() - .5, X[:, 1].max() + .5\n",
    " #  h = .02  \n",
    "    h = .5\n",
    "    xx, yy = np.meshgrid(np.arange(x_min, x_max, h), np.arange(y_min, y_max, h))\n",
    "    Z = clf.predict(np.c_[xx.ravel(), yy.ravel()])\n",
    "    \n",
    "    Z = Z.reshape(xx.shape)\n",
    "    plt.figure(1, figsize=(4, 3))\n",
    "    plt.pcolormesh(xx, yy, Z, cmap=plt.cm.Paired)\n",
    "    \n",
    "    plt.scatter(X[:, 0], X[:, 1], c=y, edgecolors='k', cmap=plt.cm.Paired)\n",
    "    plt.xlabel('Sepal length')\n",
    "    plt.ylabel('Sepal width')\n",
    "\n",
    "    plt.xlim(xx.min(), xx.max())\n",
    "    plt.ylim(yy.min(), yy.max())\n",
    "    plt.xticks(())\n",
    "    plt.yticks(())\n",
    "\n",
    "    plt.show()"
   ]
  },
  {
   "cell_type": "markdown",
   "metadata": {},
   "source": [
    "### Carregando e dividindo o conjunto de dados "
   ]
  },
  {
   "cell_type": "code",
   "execution_count": 8,
   "metadata": {},
   "outputs": [],
   "source": [
    "data = np.loadtxt(\"./data_trab2/ex2data1.txt\", delimiter=\",\")\n",
    "\n",
    "X = data[:,:-1]\n",
    "y = data[:, -1]\n",
    "\n",
    "# Dividindo e embaralhando os dados\n",
    "X_train, X_test, y_train, y_test = train_test_split(X, y, shuffle=True, test_size=0.3)"
   ]
  },
  {
   "cell_type": "markdown",
   "metadata": {},
   "source": [
    "## Relatório"
   ]
  },
  {
   "cell_type": "markdown",
   "metadata": {},
   "source": [
    "### Questão 1"
   ]
  },
  {
   "cell_type": "markdown",
   "metadata": {},
   "source": [
    "### Aplicando Regressão Logística – Gradiente Descendente"
   ]
  },
  {
   "cell_type": "code",
   "execution_count": 9,
   "metadata": {},
   "outputs": [
    {
     "name": "stdout",
     "output_type": "stream",
     "text": [
      "Acurácia:  0.6333333333333333\n"
     ]
    }
   ],
   "source": [
    "LR_GD = LogisticRegression_GradientDescent(epochs=200, learning_rate=0.00001)\n",
    "LR_GD.fit(X_train, y_train)\n",
    "y_test_pred_LR_GD = LR_GD.predict(X_test)\n",
    "print('Acurácia: ', acuracia(y_test, y_test_pred_LR_GD))"
   ]
  },
  {
   "cell_type": "code",
   "execution_count": 10,
   "metadata": {},
   "outputs": [
    {
     "data": {
      "image/png": "[encoded data removed]",
      "text/plain": [
       "<Figure size 432x288 with 2 Axes>"
      ]
     },
     "metadata": {
      "needs_background": "light"
     },
     "output_type": "display_data"
    }
   ],
   "source": [
    "# Matriz de confusão\n",
    "\n",
    "LR_GD.classes_ =  [\"X1\",\"X2\"]\n",
    "plot_confusion_matrix_(X_test, y_test, LR_GD)"
   ]
  },
  {
   "cell_type": "code",
   "execution_count": 11,
   "metadata": {},
   "outputs": [
    {
     "data": {
      "image/png": "[encoded data removed]",
      "text/plain": [
       "<Figure size 288x216 with 1 Axes>"
      ]
     },
     "metadata": {},
     "output_type": "display_data"
    }
   ],
   "source": [
    "# Gráfico de dispersão \n",
    "\n",
    "plot_boundaries(X_test, y_test, LR_GD)"
   ]
  },
  {
   "cell_type": "markdown",
   "metadata": {},
   "source": [
    "### Aplicando Naive Bayes Gaussiano"
   ]
  },
  {
   "cell_type": "code",
   "execution_count": 12,
   "metadata": {},
   "outputs": [
    {
     "name": "stdout",
     "output_type": "stream",
     "text": [
      "Acurácia:  0.9666666666666667\n"
     ]
    }
   ],
   "source": [
    "NBG = NaiveBayesGaussian()\n",
    "NBG.fit(X_train, y_train)\n",
    "y_test_pred_NBG = NBG.predict(X_test)\n",
    "print('Acurácia: ', acuracia(y_test, y_test_pred_NBG))"
   ]
  },
  {
   "cell_type": "code",
   "execution_count": 13,
   "metadata": {},
   "outputs": [
    {
     "data": {
      "image/png": "[encoded data removed]",
      "text/plain": [
       "<Figure size 432x288 with 2 Axes>"
      ]
     },
     "metadata": {
      "needs_background": "light"
     },
     "output_type": "display_data"
    }
   ],
   "source": [
    "# Matriz de confusão\n",
    "\n",
    "NBG.classes_ =  [\"X1\",\"X2\"]\n",
    "plot_confusion_matrix_(X_test, y_test, NBG)"
   ]
  },
  {
   "cell_type": "code",
   "execution_count": 14,
   "metadata": {},
   "outputs": [
    {
     "data": {
      "image/png": "[encoded data removed]",
      "text/plain": [
       "<Figure size 288x216 with 1 Axes>"
      ]
     },
     "metadata": {},
     "output_type": "display_data"
    }
   ],
   "source": [
    "# Gráfico de dispersão \n",
    "\n",
    "plot_boundaries(X_test, y_test, NBG)"
   ]
  },
  {
   "cell_type": "markdown",
   "metadata": {},
   "source": [
    "### Aplicando Discriminante Quadrático Gaussiano "
   ]
  },
  {
   "cell_type": "code",
   "execution_count": 15,
   "metadata": {},
   "outputs": [
    {
     "name": "stdout",
     "output_type": "stream",
     "text": [
      "Acurácia:  0.9333333333333333\n"
     ]
    }
   ],
   "source": [
    "QDG = QuadraticDiscriminantGaussian()\n",
    "QDG.fit(X_train, y_train)\n",
    "y_test_pred_QDG = QDG.predict(X_test)\n",
    "print('Acurácia: ', acuracia(y_test, y_test_pred_QDG))"
   ]
  },
  {
   "cell_type": "code",
   "execution_count": 16,
   "metadata": {},
   "outputs": [
    {
     "data": {
      "image/png": "[encoded data removed]",
      "text/plain": [
       "<Figure size 432x288 with 2 Axes>"
      ]
     },
     "metadata": {
      "needs_background": "light"
     },
     "output_type": "display_data"
    }
   ],
   "source": [
    "# Matriz de confusão\n",
    "\n",
    "QDG.classes_ =  [\"X1\",\"X2\"]\n",
    "plot_confusion_matrix_(X_test, y_test, QDG)"
   ]
  },
  {
   "cell_type": "code",
   "execution_count": 17,
   "metadata": {},
   "outputs": [
    {
     "data": {
      "image/png": "[encoded data removed]",
      "text/plain": [
       "<Figure size 288x216 with 1 Axes>"
      ]
     },
     "metadata": {},
     "output_type": "display_data"
    }
   ],
   "source": [
    "# Gráfico de dispersão \n",
    "\n",
    "plot_boundaries(X_test, y_test, QDG)"
   ]
  },
  {
   "cell_type": "markdown",
   "metadata": {},
   "source": [
    "## 2. O dado parece se linearmente separável ou não?"
   ]
  },
  {
   "cell_type": "markdown",
   "metadata": {},
   "source": [
    "### Sim, apesar de existirem alguns pontos outliers, o dado parece ser linearmente separável."
   ]
  },
  {
   "cell_type": "markdown",
   "metadata": {},
   "source": [
    "## 3. Quais dos métodos produziu fronteiras lineares?"
   ]
  },
  {
   "cell_type": "markdown",
   "metadata": {},
   "source": [
    "### Todos os três métodos, apesar da Regressão Logística não tenha tido uma fronteira linear que separou bem os dados."
   ]
  },
  {
   "cell_type": "markdown",
   "metadata": {},
   "source": [
    "## 4. Qual teve melhor acurácia?"
   ]
  },
  {
   "cell_type": "markdown",
   "metadata": {},
   "source": [
    "### O Naive Bayes Gaussiano."
   ]
  }
 ],
 "metadata": {
  "kernelspec": {
   "display_name": "Python 3",
   "language": "python",
   "name": "python3"
  },
  "language_info": {
   "codemirror_mode": {
    "name": "ipython",
    "version": 3
   },
   "file_extension": ".py",
   "mimetype": "text/x-python",
   "name": "python",
   "nbconvert_exporter": "python",
   "pygments_lexer": "ipython3",
   "version": "3.7.6"
  }
 },
 "nbformat": 4,
 "nbformat_minor": 4
}
